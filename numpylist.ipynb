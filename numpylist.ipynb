{
  "nbformat": 4,
  "nbformat_minor": 0,
  "metadata": {
    "colab": {
      "name": "numpylist.ipynb",
      "provenance": []
    },
    "kernelspec": {
      "name": "python3",
      "display_name": "Python 3"
    }
  },
  "cells": [
    {
      "cell_type": "code",
      "metadata": {
        "id": "t1Wq_Bp60sU0",
        "colab_type": "code",
        "colab": {
          "base_uri": "https://localhost:8080/",
          "height": 53
        },
        "outputId": "c8b10370-cca1-4cac-fcca-3cd09e93574d"
      },
      "source": [
        "list=[2,3,4,5,6,7,88,44,22]\n",
        "\n",
        "print(list)\n",
        "type(list)"
      ],
      "execution_count": 2,
      "outputs": [
        {
          "output_type": "stream",
          "text": [
            "[2, 3, 4, 5, 6, 7, 88, 44, 22]\n"
          ],
          "name": "stdout"
        },
        {
          "output_type": "execute_result",
          "data": {
            "text/plain": [
              "list"
            ]
          },
          "metadata": {
            "tags": []
          },
          "execution_count": 2
        }
      ]
    },
    {
      "cell_type": "code",
      "metadata": {
        "id": "yL1If-m_1ORM",
        "colab_type": "code",
        "colab": {}
      },
      "source": [
        "list.remove(44)"
      ],
      "execution_count": 3,
      "outputs": []
    },
    {
      "cell_type": "code",
      "metadata": {
        "id": "z7gWSq6c1ayS",
        "colab_type": "code",
        "colab": {
          "base_uri": "https://localhost:8080/",
          "height": 35
        },
        "outputId": "61e6b056-bdcf-421e-bb8a-263a98b602f7"
      },
      "source": [
        "list"
      ],
      "execution_count": 4,
      "outputs": [
        {
          "output_type": "execute_result",
          "data": {
            "text/plain": [
              "[2, 3, 4, 5, 6, 7, 88, 22]"
            ]
          },
          "metadata": {
            "tags": []
          },
          "execution_count": 4
        }
      ]
    },
    {
      "cell_type": "code",
      "metadata": {
        "id": "wtPYUpZk1bvt",
        "colab_type": "code",
        "colab": {}
      },
      "source": [
        "list.append(100)"
      ],
      "execution_count": 5,
      "outputs": []
    },
    {
      "cell_type": "code",
      "metadata": {
        "id": "lM1zXGPR1fTg",
        "colab_type": "code",
        "colab": {
          "base_uri": "https://localhost:8080/",
          "height": 35
        },
        "outputId": "46265e4c-013d-4f6b-c9b4-772ac727082a"
      },
      "source": [
        "list"
      ],
      "execution_count": 6,
      "outputs": [
        {
          "output_type": "execute_result",
          "data": {
            "text/plain": [
              "[2, 3, 4, 5, 6, 7, 88, 22, 100]"
            ]
          },
          "metadata": {
            "tags": []
          },
          "execution_count": 6
        }
      ]
    },
    {
      "cell_type": "code",
      "metadata": {
        "id": "pExh5VKe1gL_",
        "colab_type": "code",
        "colab": {
          "base_uri": "https://localhost:8080/",
          "height": 71
        },
        "outputId": "39a86f4a-6ecc-47b4-b7d6-7dccbbf456ba"
      },
      "source": [
        "# list.pop()\n",
        "print(list)\n",
        "list.reverse()\n",
        "print(list)\n",
        "list.index(4)"
      ],
      "execution_count": 17,
      "outputs": [
        {
          "output_type": "stream",
          "text": [
            "[6, 5, 4, 3]\n",
            "[3, 4, 5, 6]\n"
          ],
          "name": "stdout"
        },
        {
          "output_type": "execute_result",
          "data": {
            "text/plain": [
              "1"
            ]
          },
          "metadata": {
            "tags": []
          },
          "execution_count": 17
        }
      ]
    },
    {
      "cell_type": "code",
      "metadata": {
        "id": "MixufywK1kh8",
        "colab_type": "code",
        "colab": {
          "base_uri": "https://localhost:8080/",
          "height": 35
        },
        "outputId": "7be485f0-691c-4a72-f6a8-4ea1c8276cac"
      },
      "source": [
        "list.append(102)\n",
        "list.append(188)\n",
        "list.append(666)\n",
        "list"
      ],
      "execution_count": 19,
      "outputs": [
        {
          "output_type": "execute_result",
          "data": {
            "text/plain": [
              "[3, 4, 5, 6, 102, 102, 188, 666]"
            ]
          },
          "metadata": {
            "tags": []
          },
          "execution_count": 19
        }
      ]
    },
    {
      "cell_type": "code",
      "metadata": {
        "id": "27zRsJr62J_6",
        "colab_type": "code",
        "colab": {
          "base_uri": "https://localhost:8080/",
          "height": 35
        },
        "outputId": "caaa42b5-2333-4229-e9e0-21ef670076ff"
      },
      "source": [
        "list.append(10)\n",
        "list.append(3)\n",
        "list"
      ],
      "execution_count": 23,
      "outputs": [
        {
          "output_type": "execute_result",
          "data": {
            "text/plain": [
              "[3, 4, 5, 6, 102, 102, 188, 666, 10, 3]"
            ]
          },
          "metadata": {
            "tags": []
          },
          "execution_count": 23
        }
      ]
    },
    {
      "cell_type": "code",
      "metadata": {
        "id": "JowdQDAw2R_e",
        "colab_type": "code",
        "colab": {
          "base_uri": "https://localhost:8080/",
          "height": 35
        },
        "outputId": "6d2e04a2-65ff-4672-e478-58b7e477c7ae"
      },
      "source": [
        "list.sort()\n",
        "print(list)"
      ],
      "execution_count": 24,
      "outputs": [
        {
          "output_type": "stream",
          "text": [
            "[3, 3, 4, 5, 6, 10, 102, 102, 188, 666]\n"
          ],
          "name": "stdout"
        }
      ]
    },
    {
      "cell_type": "code",
      "metadata": {
        "id": "RLsrdfgg2nhG",
        "colab_type": "code",
        "colab": {
          "base_uri": "https://localhost:8080/",
          "height": 35
        },
        "outputId": "57c93d0b-d3b8-4aed-dd15-61cd0515993e"
      },
      "source": [
        "del list[2:4]\n",
        "print(list)"
      ],
      "execution_count": 25,
      "outputs": [
        {
          "output_type": "stream",
          "text": [
            "[3, 3, 6, 10, 102, 102, 188, 666]\n"
          ],
          "name": "stdout"
        }
      ]
    },
    {
      "cell_type": "code",
      "metadata": {
        "id": "mESjCmYE2y9u",
        "colab_type": "code",
        "colab": {
          "base_uri": "https://localhost:8080/",
          "height": 53
        },
        "outputId": "401f59d6-dc07-4838-acc2-4c7d343bd05b"
      },
      "source": [
        "#to concatenate the string in print statement\n",
        "# del list[3]\n",
        "print(\"List is \"+str(list))\n",
        "list[:]"
      ],
      "execution_count": 31,
      "outputs": [
        {
          "output_type": "stream",
          "text": [
            "List is [3, 3, 6, 188, 666]\n"
          ],
          "name": "stdout"
        },
        {
          "output_type": "execute_result",
          "data": {
            "text/plain": [
              "[3, 3, 6, 188, 666]"
            ]
          },
          "metadata": {
            "tags": []
          },
          "execution_count": 31
        }
      ]
    },
    {
      "cell_type": "code",
      "metadata": {
        "id": "wuBqngEQ3HWv",
        "colab_type": "code",
        "colab": {
          "base_uri": "https://localhost:8080/",
          "height": 35
        },
        "outputId": "79046f79-d2db-4779-bfe2-90c5f87ff9bc"
      },
      "source": [
        "list[::-1]"
      ],
      "execution_count": 38,
      "outputs": [
        {
          "output_type": "execute_result",
          "data": {
            "text/plain": [
              "[666, 188, 6, 3, 3]"
            ]
          },
          "metadata": {
            "tags": []
          },
          "execution_count": 38
        }
      ]
    },
    {
      "cell_type": "code",
      "metadata": {
        "id": "09uMHzPb3uQI",
        "colab_type": "code",
        "colab": {
          "base_uri": "https://localhost:8080/",
          "height": 53
        },
        "outputId": "028f89dd-3ff5-443b-b0e8-231a4246b449"
      },
      "source": [
        "sec=[1,4,5,7,6,8,9,11,23,44,55,77,88,99]\n",
        "len(sec)\n",
        "print(sec[0:10:4])\n",
        "print(sec[::2])"
      ],
      "execution_count": 51,
      "outputs": [
        {
          "output_type": "stream",
          "text": [
            "[1, 6, 23]\n",
            "[1, 5, 6, 9, 23, 55, 88]\n"
          ],
          "name": "stdout"
        }
      ]
    },
    {
      "cell_type": "code",
      "metadata": {
        "id": "eYp6xUIM42jO",
        "colab_type": "code",
        "colab": {
          "base_uri": "https://localhost:8080/",
          "height": 35
        },
        "outputId": "6c797f8a-b52f-4b55-e93b-ff19852d28bd"
      },
      "source": [
        "print(sec[2:-3])"
      ],
      "execution_count": 55,
      "outputs": [
        {
          "output_type": "stream",
          "text": [
            "[5, 7, 6, 8, 9, 11, 23, 44, 55]\n"
          ],
          "name": "stdout"
        }
      ]
    },
    {
      "cell_type": "code",
      "metadata": {
        "id": "oWYhxWax6txq",
        "colab_type": "code",
        "colab": {
          "base_uri": "https://localhost:8080/",
          "height": 35
        },
        "outputId": "a174ff4c-7e44-4237-c781-a65356698398"
      },
      "source": [
        "print(sec)"
      ],
      "execution_count": 56,
      "outputs": [
        {
          "output_type": "stream",
          "text": [
            "[1, 4, 5, 7, 6, 8, 9, 11, 23, 44, 55, 77, 88, 99]\n"
          ],
          "name": "stdout"
        }
      ]
    },
    {
      "cell_type": "code",
      "metadata": {
        "id": "GGO3-XGv7Sk7",
        "colab_type": "code",
        "colab": {
          "base_uri": "https://localhost:8080/",
          "height": 35
        },
        "outputId": "5092a225-6e0a-4aa7-c7ff-50c81c67e3b9"
      },
      "source": [
        "print(sec[::-1])"
      ],
      "execution_count": 57,
      "outputs": [
        {
          "output_type": "stream",
          "text": [
            "[99, 88, 77, 55, 44, 23, 11, 9, 8, 6, 7, 5, 4, 1]\n"
          ],
          "name": "stdout"
        }
      ]
    },
    {
      "cell_type": "code",
      "metadata": {
        "id": "lc4N1DnP7Vqq",
        "colab_type": "code",
        "colab": {
          "base_uri": "https://localhost:8080/",
          "height": 89
        },
        "outputId": "7a8d115c-9544-4f88-ec1b-f833745e637d"
      },
      "source": [
        "print(len(sec))\n",
        "print(sec[0:10:3])\n",
        "print(sec[:])\n",
        "print(sec[5:10])"
      ],
      "execution_count": 69,
      "outputs": [
        {
          "output_type": "stream",
          "text": [
            "14\n",
            "[1, 7, 9, 44]\n",
            "[1, 4, 5, 7, 6, 8, 9, 11, 23, 44, 55, 77, 88, 99]\n",
            "[]\n"
          ],
          "name": "stdout"
        }
      ]
    },
    {
      "cell_type": "code",
      "metadata": {
        "id": "Y3xcSyyE7Zga",
        "colab_type": "code",
        "colab": {}
      },
      "source": [
        "import numpy as np\n",
        "array=[2,3,4,6,7,9,11,23,44,55,66,76]\n",
        "a=np.asarray(array)"
      ],
      "execution_count": 78,
      "outputs": []
    },
    {
      "cell_type": "code",
      "metadata": {
        "id": "YwTocxq19FpT",
        "colab_type": "code",
        "colab": {
          "base_uri": "https://localhost:8080/",
          "height": 35
        },
        "outputId": "0de512ca-9cb3-48fb-a001-464606e4fafe"
      },
      "source": [
        "type(a)"
      ],
      "execution_count": 79,
      "outputs": [
        {
          "output_type": "execute_result",
          "data": {
            "text/plain": [
              "numpy.ndarray"
            ]
          },
          "metadata": {
            "tags": []
          },
          "execution_count": 79
        }
      ]
    },
    {
      "cell_type": "code",
      "metadata": {
        "id": "riWAxpIj9GW5",
        "colab_type": "code",
        "colab": {
          "base_uri": "https://localhost:8080/",
          "height": 35
        },
        "outputId": "e7041cbf-608e-4611-9706-70f4ade8665b"
      },
      "source": [
        "a=a*100\n",
        "print(a)"
      ],
      "execution_count": 82,
      "outputs": [
        {
          "output_type": "stream",
          "text": [
            "[10200 10300 10400 10600 10700 10900 11100 12300 14400 15500 16600 17600]\n"
          ],
          "name": "stdout"
        }
      ]
    },
    {
      "cell_type": "code",
      "metadata": {
        "id": "isH_fsMI9Tyx",
        "colab_type": "code",
        "colab": {
          "base_uri": "https://localhost:8080/",
          "height": 35
        },
        "outputId": "c5c579fd-33b3-489f-c0a5-9ec42bf23053"
      },
      "source": [
        "b=[10,20,30]\n",
        "numAr=np.array(b)\n",
        "np.dot(numAr,numAr)\n",
        "#np.dot()  10*10 +20*20 +30*30 ==1400"
      ],
      "execution_count": 89,
      "outputs": [
        {
          "output_type": "execute_result",
          "data": {
            "text/plain": [
              "1400"
            ]
          },
          "metadata": {
            "tags": []
          },
          "execution_count": 89
        }
      ]
    },
    {
      "cell_type": "code",
      "metadata": {
        "id": "9Dn2cJkI9tPR",
        "colab_type": "code",
        "colab": {
          "base_uri": "https://localhost:8080/",
          "height": 35
        },
        "outputId": "6d510cac-e7f5-49f4-bb56-d7243d94590a"
      },
      "source": [
        "import numpy as np\n",
        "array=[[1,2,3,4],\n",
        "       [2,3,4,5]]\n",
        "npar=np.array(array)\n",
        "npar.shape"
      ],
      "execution_count": 2,
      "outputs": [
        {
          "output_type": "execute_result",
          "data": {
            "text/plain": [
              "(2, 4)"
            ]
          },
          "metadata": {
            "tags": []
          },
          "execution_count": 2
        }
      ]
    },
    {
      "cell_type": "code",
      "metadata": {
        "id": "JzXzkP5twHGW",
        "colab_type": "code",
        "colab": {
          "base_uri": "https://localhost:8080/",
          "height": 107
        },
        "outputId": "631ccee8-9c38-4d42-d050-7d9a42ee778a"
      },
      "source": [
        "npar=npar.reshape(4,2)\n",
        "print(type(npar))\n",
        "print(npar)"
      ],
      "execution_count": 9,
      "outputs": [
        {
          "output_type": "stream",
          "text": [
            "<class 'numpy.ndarray'>\n",
            "[[1 2]\n",
            " [3 4]\n",
            " [2 3]\n",
            " [4 5]]\n"
          ],
          "name": "stdout"
        }
      ]
    },
    {
      "cell_type": "code",
      "metadata": {
        "id": "TuZ5UBkXwR3L",
        "colab_type": "code",
        "colab": {
          "base_uri": "https://localhost:8080/",
          "height": 35
        },
        "outputId": "ee4e599a-05b4-4b94-9f4a-923d084b644d"
      },
      "source": [
        "npar[1,0]"
      ],
      "execution_count": 12,
      "outputs": [
        {
          "output_type": "execute_result",
          "data": {
            "text/plain": [
              "3"
            ]
          },
          "metadata": {
            "tags": []
          },
          "execution_count": 12
        }
      ]
    },
    {
      "cell_type": "code",
      "metadata": {
        "id": "GAjiaQRtwfgk",
        "colab_type": "code",
        "colab": {
          "base_uri": "https://localhost:8080/",
          "height": 35
        },
        "outputId": "4c30763a-8c54-4a30-cfe0-cf223428bc48"
      },
      "source": [
        "ray=[[1,2,3,4,5,6,7,8,9,10],\n",
        "             [11,12,13,14,15,16,17,18,19,20]]\n",
        "np_array=np.array(ray)\n",
        "print(np_array[1,0:5]) \n",
        "#  //means ist row and elements from 0 to 5 index"
      ],
      "execution_count": 18,
      "outputs": [
        {
          "output_type": "stream",
          "text": [
            "[11 12 13 14 15]\n"
          ],
          "name": "stdout"
        }
      ]
    },
    {
      "cell_type": "code",
      "metadata": {
        "id": "qaVY5QbBxNm8",
        "colab_type": "code",
        "colab": {
          "base_uri": "https://localhost:8080/",
          "height": 35
        },
        "outputId": "d0dc293f-cd0e-417c-d0bd-7b82facd8f49"
      },
      "source": [
        "np_array[0,::-1]\n",
        "#reverse and array"
      ],
      "execution_count": 20,
      "outputs": [
        {
          "output_type": "execute_result",
          "data": {
            "text/plain": [
              "array([10,  9,  8,  7,  6,  5,  4,  3,  2,  1])"
            ]
          },
          "metadata": {
            "tags": []
          },
          "execution_count": 20
        }
      ]
    },
    {
      "cell_type": "code",
      "metadata": {
        "id": "MltAEoPgx4Wt",
        "colab_type": "code",
        "colab": {
          "base_uri": "https://localhost:8080/",
          "height": 125
        },
        "outputId": "304315d1-5bcf-4272-a77a-fb6392a5f751"
      },
      "source": [
        "print(np_array.max())\n",
        "print(np_array.min())\n",
        "print(np_array.mean())\n",
        "print(np_array.sum())\n",
        "# print(np_array.median())\n",
        "\n",
        "print(np_array.var())\n",
        "\n",
        "print(np_array.std())\n"
      ],
      "execution_count": 27,
      "outputs": [
        {
          "output_type": "stream",
          "text": [
            "20\n",
            "1\n",
            "10.5\n",
            "210\n",
            "33.25\n",
            "5.766281297335398\n"
          ],
          "name": "stdout"
        }
      ]
    },
    {
      "cell_type": "code",
      "metadata": {
        "id": "vJw_X6gAyLGI",
        "colab_type": "code",
        "colab": {
          "base_uri": "https://localhost:8080/",
          "height": 71
        },
        "outputId": "0f5d3d17-5130-44fb-aadc-c8dc964f4c8b"
      },
      "source": [
        "matrix=[[1,2],\n",
        "        [3,4],\n",
        "        [5,6],\n",
        "        [7,8]]\n",
        "np_mat=np.array(matrix)\n",
        "print(np_mat.sum(axis=0))\n",
        "print(np_mat.sum(axis=1))\n",
        "print(np_mat.sum(axis=None))\n"
      ],
      "execution_count": 31,
      "outputs": [
        {
          "output_type": "stream",
          "text": [
            "[16 20]\n",
            "[ 3  7 11 15]\n",
            "36\n"
          ],
          "name": "stdout"
        }
      ]
    },
    {
      "cell_type": "code",
      "metadata": {
        "id": "4nrG63brzOpD",
        "colab_type": "code",
        "colab": {
          "base_uri": "https://localhost:8080/",
          "height": 35
        },
        "outputId": "4b4c17ad-102b-4834-e182-5542b75ad2b1"
      },
      "source": [
        "array_1 = np.array([1,2,3])\n",
        "array_2 = np.array([4,5,6])\n",
        "array_3 = np.array([7,8,9])\n",
        "np.concatenate((array_1,array_2,array_3))"
      ],
      "execution_count": 33,
      "outputs": [
        {
          "output_type": "execute_result",
          "data": {
            "text/plain": [
              "array([1, 2, 3, 4, 5, 6, 7, 8, 9])"
            ]
          },
          "metadata": {
            "tags": []
          },
          "execution_count": 33
        }
      ]
    },
    {
      "cell_type": "code",
      "metadata": {
        "id": "kIuI3SoKzz5a",
        "colab_type": "code",
        "colab": {
          "base_uri": "https://localhost:8080/",
          "height": 53
        },
        "outputId": "b2932b7b-d6b2-47ea-bf47-5cc2d2b3ee84"
      },
      "source": [
        "array_4 = np.array([[1,2,3],[0,0,0]])\n",
        "array_5 = np.array([[0,0,0],[7,8,9]])\n",
        "np.concatenate((array_4,array_5),axis=0)\n",
        "np.concatenate((array_4,array_5),axis=1)\n"
      ],
      "execution_count": 38,
      "outputs": [
        {
          "output_type": "execute_result",
          "data": {
            "text/plain": [
              "array([[1, 2, 3, 0, 0, 0],\n",
              "       [0, 0, 0, 7, 8, 9]])"
            ]
          },
          "metadata": {
            "tags": []
          },
          "execution_count": 38
        }
      ]
    },
    {
      "cell_type": "code",
      "metadata": {
        "id": "BhgVejMk0DrX",
        "colab_type": "code",
        "colab": {
          "base_uri": "https://localhost:8080/",
          "height": 35
        },
        "outputId": "81404f2e-36db-401e-ad0d-56d579874e3e"
      },
      "source": [
        "z=np.zeros((3,8),dtype=np.int)\n",
        "z.dtype"
      ],
      "execution_count": 46,
      "outputs": [
        {
          "output_type": "execute_result",
          "data": {
            "text/plain": [
              "dtype('int64')"
            ]
          },
          "metadata": {
            "tags": []
          },
          "execution_count": 46
        }
      ]
    },
    {
      "cell_type": "code",
      "metadata": {
        "id": "jTzBH05S0mdw",
        "colab_type": "code",
        "colab": {
          "base_uri": "https://localhost:8080/",
          "height": 71
        },
        "outputId": "37c3e9cb-bad1-49e9-e52b-6a3a91475a6c"
      },
      "source": [
        "print(z)"
      ],
      "execution_count": 42,
      "outputs": [
        {
          "output_type": "stream",
          "text": [
            "[[0. 0. 0. 0. 0. 0. 0. 0.]\n",
            " [0. 0. 0. 0. 0. 0. 0. 0.]\n",
            " [0. 0. 0. 0. 0. 0. 0. 0.]]\n"
          ],
          "name": "stdout"
        }
      ]
    },
    {
      "cell_type": "code",
      "metadata": {
        "id": "HpoP3mMz0oa_",
        "colab_type": "code",
        "colab": {
          "base_uri": "https://localhost:8080/",
          "height": 35
        },
        "outputId": "50357b46-d54c-4bd9-bec7-ed217eb2a04b"
      },
      "source": [
        "z=np.ones((3,8),dtype=np.int)\n",
        "z.dtype"
      ],
      "execution_count": 47,
      "outputs": [
        {
          "output_type": "execute_result",
          "data": {
            "text/plain": [
              "dtype('int64')"
            ]
          },
          "metadata": {
            "tags": []
          },
          "execution_count": 47
        }
      ]
    },
    {
      "cell_type": "code",
      "metadata": {
        "id": "CPkc8qcb1Aph",
        "colab_type": "code",
        "colab": {
          "base_uri": "https://localhost:8080/",
          "height": 71
        },
        "outputId": "1aad77a3-0da2-4547-f0b4-3bb2ab3e9d71"
      },
      "source": [
        "print(z)"
      ],
      "execution_count": 48,
      "outputs": [
        {
          "output_type": "stream",
          "text": [
            "[[1 1 1 1 1 1 1 1]\n",
            " [1 1 1 1 1 1 1 1]\n",
            " [1 1 1 1 1 1 1 1]]\n"
          ],
          "name": "stdout"
        }
      ]
    },
    {
      "cell_type": "code",
      "metadata": {
        "id": "8HJMLafv1DJm",
        "colab_type": "code",
        "colab": {
          "base_uri": "https://localhost:8080/",
          "height": 161
        },
        "outputId": "7ece3362-5114-40f4-d4aa-581dd9694163"
      },
      "source": [
        "print(np.identity(8))"
      ],
      "execution_count": 53,
      "outputs": [
        {
          "output_type": "stream",
          "text": [
            "[[1. 0. 0. 0. 0. 0. 0. 0.]\n",
            " [0. 1. 0. 0. 0. 0. 0. 0.]\n",
            " [0. 0. 1. 0. 0. 0. 0. 0.]\n",
            " [0. 0. 0. 1. 0. 0. 0. 0.]\n",
            " [0. 0. 0. 0. 1. 0. 0. 0.]\n",
            " [0. 0. 0. 0. 0. 1. 0. 0.]\n",
            " [0. 0. 0. 0. 0. 0. 1. 0.]\n",
            " [0. 0. 0. 0. 0. 0. 0. 1.]]\n"
          ],
          "name": "stdout"
        }
      ]
    },
    {
      "cell_type": "code",
      "metadata": {
        "id": "mdl-SdNg1S5X",
        "colab_type": "code",
        "colab": {
          "base_uri": "https://localhost:8080/",
          "height": 161
        },
        "outputId": "df03aa05-8e4b-465f-b556-3f4765573abb"
      },
      "source": [
        "print(np.eye(8,8,k=-2))"
      ],
      "execution_count": 60,
      "outputs": [
        {
          "output_type": "stream",
          "text": [
            "[[0. 0. 0. 0. 0. 0. 0. 0.]\n",
            " [0. 0. 0. 0. 0. 0. 0. 0.]\n",
            " [1. 0. 0. 0. 0. 0. 0. 0.]\n",
            " [0. 1. 0. 0. 0. 0. 0. 0.]\n",
            " [0. 0. 1. 0. 0. 0. 0. 0.]\n",
            " [0. 0. 0. 1. 0. 0. 0. 0.]\n",
            " [0. 0. 0. 0. 1. 0. 0. 0.]\n",
            " [0. 0. 0. 0. 0. 1. 0. 0.]]\n"
          ],
          "name": "stdout"
        }
      ]
    },
    {
      "cell_type": "code",
      "metadata": {
        "id": "SkaeYRgQ1iaW",
        "colab_type": "code",
        "colab": {
          "base_uri": "https://localhost:8080/",
          "height": 53
        },
        "outputId": "9fc703e5-9331-4f68-fe42-139d5a70a195"
      },
      "source": [
        "ar6=np.array([1,2])\n",
        "ar7=np.array([3,4])\n",
        "print(np.dot(ar6,ar7))\n",
        "print(np.cross(ar6,ar7))"
      ],
      "execution_count": 62,
      "outputs": [
        {
          "output_type": "stream",
          "text": [
            "11\n",
            "-2\n"
          ],
          "name": "stdout"
        }
      ]
    },
    {
      "cell_type": "code",
      "metadata": {
        "id": "ZZWHdsvi2SYQ",
        "colab_type": "code",
        "colab": {}
      },
      "source": [
        ""
      ],
      "execution_count": null,
      "outputs": []
    }
  ]
}